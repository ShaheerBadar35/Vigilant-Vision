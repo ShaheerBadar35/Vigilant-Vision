{
 "cells": [
  {
   "cell_type": "code",
   "execution_count": 1,
   "id": "1517caad",
   "metadata": {
    "execution": {
     "iopub.execute_input": "2025-05-02T15:18:05.709169Z",
     "iopub.status.busy": "2025-05-02T15:18:05.708954Z",
     "iopub.status.idle": "2025-05-02T15:18:21.625832Z",
     "shell.execute_reply": "2025-05-02T15:18:21.625130Z"
    },
    "papermill": {
     "duration": 15.921397,
     "end_time": "2025-05-02T15:18:21.627354",
     "exception": false,
     "start_time": "2025-05-02T15:18:05.705957",
     "status": "completed"
    },
    "tags": []
   },
   "outputs": [
    {
     "name": "stderr",
     "output_type": "stream",
     "text": [
      "2025-05-02 15:18:07.343735: E external/local_xla/xla/stream_executor/cuda/cuda_fft.cc:477] Unable to register cuFFT factory: Attempting to register factory for plugin cuFFT when one has already been registered\n",
      "WARNING: All log messages before absl::InitializeLog() is called are written to STDERR\n",
      "E0000 00:00:1746199087.569641      19 cuda_dnn.cc:8310] Unable to register cuDNN factory: Attempting to register factory for plugin cuDNN when one has already been registered\n",
      "E0000 00:00:1746199087.643755      19 cuda_blas.cc:1418] Unable to register cuBLAS factory: Attempting to register factory for plugin cuBLAS when one has already been registered\n"
     ]
    }
   ],
   "source": [
    "import os\n",
    "import tensorflow as tf\n",
    "from tensorflow.keras.layers import *\n",
    "from tensorflow.keras.models import Sequential\n",
    "from tensorflow.keras.callbacks import EarlyStopping\n",
    "import numpy as np\n",
    "import random\n",
    "import matplotlib.pyplot as plt\n",
    "from sklearn.model_selection import train_test_split\n",
    "from tensorflow.keras.utils import to_categorical\n",
    "from tensorflow.data import Dataset\n",
    "\n",
    "# Specify the height and width of the images.\n",
    "IMAGE_HEIGHT, IMAGE_WIDTH = 64, 64\n",
    "\n",
    "# Specify the number of frames (images) in a sequence.\n",
    "SEQUENCE_LENGTH = 15\n",
    "\n",
    "# Specify the directories for training and testing data.\n",
    "TRAIN_DIR = \"/kaggle/input/ucf-crime-dataset/Train\"\n",
    "TEST_DIR = \"/kaggle/input/ucf-crime-dataset/Test\"\n",
    "\n",
    "# List of class labels\n",
    "CLASSES_LIST = [\"Abuse\", \"Arson\", \"Arrest\", \"Explosion\", \"Fighting\", \"RoadAccidents\", \"Robbery\", \"Shooting\"]"
   ]
  },
  {
   "cell_type": "code",
   "execution_count": 2,
   "id": "da16ee96",
   "metadata": {
    "execution": {
     "iopub.execute_input": "2025-05-02T15:18:21.632500Z",
     "iopub.status.busy": "2025-05-02T15:18:21.632100Z",
     "iopub.status.idle": "2025-05-02T15:18:24.099133Z",
     "shell.execute_reply": "2025-05-02T15:18:24.098554Z"
    },
    "papermill": {
     "duration": 2.470726,
     "end_time": "2025-05-02T15:18:24.100430",
     "exception": false,
     "start_time": "2025-05-02T15:18:21.629704",
     "status": "completed"
    },
    "tags": []
   },
   "outputs": [],
   "source": [
    "\n",
    "# Enable mixed precision\n",
    "tf.keras.mixed_precision.set_global_policy('mixed_float16')\n",
    "\n",
    "# Function to decode and preprocess images\n",
    "def decode_image(image_path):\n",
    "    image = tf.io.read_file(image_path)\n",
    "    image = tf.image.decode_jpeg(image, channels=3)\n",
    "    image = tf.image.resize(image, [IMAGE_HEIGHT, IMAGE_WIDTH])\n",
    "    image = image / 255.0  # Normalize to [0, 1]\n",
    "    return image\n",
    "\n",
    "# Function to create dataset for training\n",
    "def load_data_from_folder(directory):\n",
    "    images = []\n",
    "    labels = []\n",
    "\n",
    "    for class_index, class_name in enumerate(CLASSES_LIST):\n",
    "        class_dir = os.path.join(directory, class_name)\n",
    "        image_files = os.listdir(class_dir)\n",
    "        image_files.sort()\n",
    "        \n",
    "        for image_file in image_files:\n",
    "            image_path = os.path.join(class_dir, image_file)\n",
    "            images.append(image_path)\n",
    "            labels.append(class_index)\n",
    "\n",
    "    return images, labels\n",
    "\n",
    "# Load data from train and test directories\n",
    "train_images, train_labels = load_data_from_folder(TRAIN_DIR)\n",
    "test_images, test_labels = load_data_from_folder(TEST_DIR)\n",
    "\n",
    "# Shuffle and split dataset into training and validation sets\n",
    "train_images, val_images, train_labels, val_labels = train_test_split(\n",
    "    train_images, train_labels, test_size=0.2, random_state=42)"
   ]
  },
  {
   "cell_type": "code",
   "execution_count": 3,
   "id": "837c89ae",
   "metadata": {
    "execution": {
     "iopub.execute_input": "2025-05-02T15:18:24.109548Z",
     "iopub.status.busy": "2025-05-02T15:18:24.109262Z",
     "iopub.status.idle": "2025-05-02T15:18:28.684743Z",
     "shell.execute_reply": "2025-05-02T15:18:28.683869Z"
    },
    "papermill": {
     "duration": 4.579437,
     "end_time": "2025-05-02T15:18:28.685911",
     "exception": false,
     "start_time": "2025-05-02T15:18:24.106474",
     "status": "completed"
    },
    "tags": []
   },
   "outputs": [
    {
     "name": "stderr",
     "output_type": "stream",
     "text": [
      "I0000 00:00:1746199105.730742      19 gpu_device.cc:2022] Created device /job:localhost/replica:0/task:0/device:GPU:0 with 13942 MB memory:  -> device: 0, name: Tesla T4, pci bus id: 0000:00:04.0, compute capability: 7.5\n",
      "I0000 00:00:1746199105.731433      19 gpu_device.cc:2022] Created device /job:localhost/replica:0/task:0/device:GPU:1 with 13942 MB memory:  -> device: 1, name: Tesla T4, pci bus id: 0000:00:05.0, compute capability: 7.5\n"
     ]
    },
    {
     "name": "stdout",
     "output_type": "stream",
     "text": [
      "Number of samples in the train dataset: 9890\n",
      "Number of samples in the validation dataset: 2472\n"
     ]
    }
   ],
   "source": [
    "# Function to group images into sequences\n",
    "def create_sequences(image_paths, labels, sequence_length=SEQUENCE_LENGTH):\n",
    "    sequences = []\n",
    "    sequence_labels = []\n",
    "    \n",
    "    for i in range(0, len(image_paths) - sequence_length + 1, sequence_length):\n",
    "        sequence = image_paths[i:i + sequence_length]\n",
    "        label = labels[i + sequence_length - 1]  # Use the last label of the sequence\n",
    "        sequences.append(sequence)\n",
    "        sequence_labels.append(label)\n",
    "\n",
    "    return sequences, sequence_labels\n",
    "\n",
    "# Create sequences for training and validation datasets\n",
    "train_sequences, train_sequence_labels = create_sequences(train_images, train_labels)\n",
    "val_sequences, val_sequence_labels = create_sequences(val_images, val_labels)\n",
    "\n",
    "# One-hot encode the labels for training and validation\n",
    "train_labels_one_hot = to_categorical(train_sequence_labels, num_classes=len(CLASSES_LIST))\n",
    "val_labels_one_hot = to_categorical(val_sequence_labels, num_classes=len(CLASSES_LIST))\n",
    "\n",
    "# Create tf.data.Dataset for train and validation\n",
    "train_dataset = Dataset.from_tensor_slices((train_sequences, train_labels_one_hot))\n",
    "val_dataset = Dataset.from_tensor_slices((val_sequences, val_labels_one_hot))\n",
    "\n",
    "# Count the number of samples in the train dataset\n",
    "train_count = sum(1 for _ in train_dataset)\n",
    "print(f\"Number of samples in the train dataset: {train_count}\")\n",
    "\n",
    "# Count the number of samples in the validation dataset\n",
    "val_count = sum(1 for _ in val_dataset)\n",
    "print(f\"Number of samples in the validation dataset: {val_count}\")\n",
    "\n",
    "# Map function to decode and preprocess the images in sequences\n",
    "def map_fn(sequence_paths, label):\n",
    "    # Use TensorFlow map_fn to load and process multiple images in parallel\n",
    "    sequence_images = tf.map_fn(lambda path: decode_image(path), sequence_paths, dtype=tf.float32)\n",
    "    sequence_images = tf.stack(sequence_images)  # Stack the sequence of images\n",
    "    return sequence_images, label\n",
    "\n",
    "# Apply the map function to the dataset\n",
    "train_dataset = train_dataset.map(map_fn).batch(16).prefetch(tf.data.experimental.AUTOTUNE)\n",
    "val_dataset = val_dataset.map(map_fn).batch(16).prefetch(tf.data.experimental.AUTOTUNE)"
   ]
  },
  {
   "cell_type": "code",
   "execution_count": 4,
   "id": "e0528423",
   "metadata": {
    "execution": {
     "iopub.execute_input": "2025-05-02T15:18:28.690796Z",
     "iopub.status.busy": "2025-05-02T15:18:28.690606Z",
     "iopub.status.idle": "2025-05-02T15:18:28.696992Z",
     "shell.execute_reply": "2025-05-02T15:18:28.696444Z"
    },
    "papermill": {
     "duration": 0.009987,
     "end_time": "2025-05-02T15:18:28.698032",
     "exception": false,
     "start_time": "2025-05-02T15:18:28.688045",
     "status": "completed"
    },
    "tags": []
   },
   "outputs": [],
   "source": [
    "# Create LRCN model with Attention mechanism\n",
    "def create_LRCN_model_with_attention():\n",
    "    model = Sequential()\n",
    "    \n",
    "    model.add(TimeDistributed(Conv2D(16, (3, 3), padding='same', activation='relu'),\n",
    "                              input_shape=(SEQUENCE_LENGTH, IMAGE_HEIGHT, IMAGE_WIDTH, 3)))\n",
    "    model.add(TimeDistributed(MaxPooling2D((4, 4)))) \n",
    "    model.add(TimeDistributed(Dropout(0.25)))\n",
    "    \n",
    "    model.add(TimeDistributed(Conv2D(32, (3, 3), padding='same', activation='relu')))\n",
    "    model.add(TimeDistributed(MaxPooling2D((4, 4))))\n",
    "    model.add(TimeDistributed(Dropout(0.25)))\n",
    "    \n",
    "    model.add(TimeDistributed(Conv2D(64, (3, 3), padding='same', activation='relu')))\n",
    "    model.add(TimeDistributed(MaxPooling2D((2, 2))))\n",
    "    model.add(TimeDistributed(Dropout(0.25)))\n",
    "    \n",
    "    model.add(TimeDistributed(Conv2D(64, (3, 3), padding='same', activation='relu')))\n",
    "    model.add(TimeDistributed(MaxPooling2D((2, 2))))\n",
    "    \n",
    "    model.add(TimeDistributed(Flatten()))\n",
    "    \n",
    "    model.add(LSTM(32, return_sequences=True))  # Match the LSTM units with attention\n",
    "    \n",
    "    # Apply attention mechanism\n",
    "    attention = Attention()([model.layers[-2].output, model.layers[-2].output])  # Use the same LSTM output for attention\n",
    "    attended_out = Concatenate(axis=-1)([model.layers[-2].output, attention])\n",
    "    \n",
    "    model.add(LSTM(32, return_sequences=False))  # Match the LSTM units with attention\n",
    "    \n",
    "    model.add(Dense(len(CLASSES_LIST), activation='softmax'))\n",
    "    \n",
    "    model.summary()\n",
    "    \n",
    "    return model"
   ]
  },
  {
   "cell_type": "code",
   "execution_count": 5,
   "id": "c174796a",
   "metadata": {
    "execution": {
     "iopub.execute_input": "2025-05-02T15:18:28.702398Z",
     "iopub.status.busy": "2025-05-02T15:18:28.702211Z",
     "iopub.status.idle": "2025-05-02T15:18:30.185361Z",
     "shell.execute_reply": "2025-05-02T15:18:30.184854Z"
    },
    "papermill": {
     "duration": 1.486515,
     "end_time": "2025-05-02T15:18:30.186446",
     "exception": false,
     "start_time": "2025-05-02T15:18:28.699931",
     "status": "completed"
    },
    "tags": []
   },
   "outputs": [
    {
     "name": "stderr",
     "output_type": "stream",
     "text": [
      "/usr/local/lib/python3.11/dist-packages/keras/src/layers/core/wrapper.py:27: UserWarning: Do not pass an `input_shape`/`input_dim` argument to a layer. When using Sequential models, prefer using an `Input(shape)` object as the first layer in the model instead.\n",
      "  super().__init__(**kwargs)\n"
     ]
    },
    {
     "data": {
      "text/html": [
       "<pre style=\"white-space:pre;overflow-x:auto;line-height:normal;font-family:Menlo,'DejaVu Sans Mono',consolas,'Courier New',monospace\"><span style=\"font-weight: bold\">Model: \"sequential\"</span>\n",
       "</pre>\n"
      ],
      "text/plain": [
       "\u001b[1mModel: \"sequential\"\u001b[0m\n"
      ]
     },
     "metadata": {},
     "output_type": "display_data"
    },
    {
     "data": {
      "text/html": [
       "<pre style=\"white-space:pre;overflow-x:auto;line-height:normal;font-family:Menlo,'DejaVu Sans Mono',consolas,'Courier New',monospace\">┏━━━━━━━━━━━━━━━━━━━━━━━━━━━━━━━━━━━━━━┳━━━━━━━━━━━━━━━━━━━━━━━━━━━━━┳━━━━━━━━━━━━━━━━━┓\n",
       "┃<span style=\"font-weight: bold\"> Layer (type)                         </span>┃<span style=\"font-weight: bold\"> Output Shape                </span>┃<span style=\"font-weight: bold\">         Param # </span>┃\n",
       "┡━━━━━━━━━━━━━━━━━━━━━━━━━━━━━━━━━━━━━━╇━━━━━━━━━━━━━━━━━━━━━━━━━━━━━╇━━━━━━━━━━━━━━━━━┩\n",
       "│ time_distributed (<span style=\"color: #0087ff; text-decoration-color: #0087ff\">TimeDistributed</span>)   │ (<span style=\"color: #00d7ff; text-decoration-color: #00d7ff\">None</span>, <span style=\"color: #00af00; text-decoration-color: #00af00\">15</span>, <span style=\"color: #00af00; text-decoration-color: #00af00\">64</span>, <span style=\"color: #00af00; text-decoration-color: #00af00\">64</span>, <span style=\"color: #00af00; text-decoration-color: #00af00\">16</span>)      │             <span style=\"color: #00af00; text-decoration-color: #00af00\">448</span> │\n",
       "├──────────────────────────────────────┼─────────────────────────────┼─────────────────┤\n",
       "│ time_distributed_1 (<span style=\"color: #0087ff; text-decoration-color: #0087ff\">TimeDistributed</span>) │ (<span style=\"color: #00d7ff; text-decoration-color: #00d7ff\">None</span>, <span style=\"color: #00af00; text-decoration-color: #00af00\">15</span>, <span style=\"color: #00af00; text-decoration-color: #00af00\">16</span>, <span style=\"color: #00af00; text-decoration-color: #00af00\">16</span>, <span style=\"color: #00af00; text-decoration-color: #00af00\">16</span>)      │               <span style=\"color: #00af00; text-decoration-color: #00af00\">0</span> │\n",
       "├──────────────────────────────────────┼─────────────────────────────┼─────────────────┤\n",
       "│ time_distributed_2 (<span style=\"color: #0087ff; text-decoration-color: #0087ff\">TimeDistributed</span>) │ (<span style=\"color: #00d7ff; text-decoration-color: #00d7ff\">None</span>, <span style=\"color: #00af00; text-decoration-color: #00af00\">15</span>, <span style=\"color: #00af00; text-decoration-color: #00af00\">16</span>, <span style=\"color: #00af00; text-decoration-color: #00af00\">16</span>, <span style=\"color: #00af00; text-decoration-color: #00af00\">16</span>)      │               <span style=\"color: #00af00; text-decoration-color: #00af00\">0</span> │\n",
       "├──────────────────────────────────────┼─────────────────────────────┼─────────────────┤\n",
       "│ time_distributed_3 (<span style=\"color: #0087ff; text-decoration-color: #0087ff\">TimeDistributed</span>) │ (<span style=\"color: #00d7ff; text-decoration-color: #00d7ff\">None</span>, <span style=\"color: #00af00; text-decoration-color: #00af00\">15</span>, <span style=\"color: #00af00; text-decoration-color: #00af00\">16</span>, <span style=\"color: #00af00; text-decoration-color: #00af00\">16</span>, <span style=\"color: #00af00; text-decoration-color: #00af00\">32</span>)      │           <span style=\"color: #00af00; text-decoration-color: #00af00\">4,640</span> │\n",
       "├──────────────────────────────────────┼─────────────────────────────┼─────────────────┤\n",
       "│ time_distributed_4 (<span style=\"color: #0087ff; text-decoration-color: #0087ff\">TimeDistributed</span>) │ (<span style=\"color: #00d7ff; text-decoration-color: #00d7ff\">None</span>, <span style=\"color: #00af00; text-decoration-color: #00af00\">15</span>, <span style=\"color: #00af00; text-decoration-color: #00af00\">4</span>, <span style=\"color: #00af00; text-decoration-color: #00af00\">4</span>, <span style=\"color: #00af00; text-decoration-color: #00af00\">32</span>)        │               <span style=\"color: #00af00; text-decoration-color: #00af00\">0</span> │\n",
       "├──────────────────────────────────────┼─────────────────────────────┼─────────────────┤\n",
       "│ time_distributed_5 (<span style=\"color: #0087ff; text-decoration-color: #0087ff\">TimeDistributed</span>) │ (<span style=\"color: #00d7ff; text-decoration-color: #00d7ff\">None</span>, <span style=\"color: #00af00; text-decoration-color: #00af00\">15</span>, <span style=\"color: #00af00; text-decoration-color: #00af00\">4</span>, <span style=\"color: #00af00; text-decoration-color: #00af00\">4</span>, <span style=\"color: #00af00; text-decoration-color: #00af00\">32</span>)        │               <span style=\"color: #00af00; text-decoration-color: #00af00\">0</span> │\n",
       "├──────────────────────────────────────┼─────────────────────────────┼─────────────────┤\n",
       "│ time_distributed_6 (<span style=\"color: #0087ff; text-decoration-color: #0087ff\">TimeDistributed</span>) │ (<span style=\"color: #00d7ff; text-decoration-color: #00d7ff\">None</span>, <span style=\"color: #00af00; text-decoration-color: #00af00\">15</span>, <span style=\"color: #00af00; text-decoration-color: #00af00\">4</span>, <span style=\"color: #00af00; text-decoration-color: #00af00\">4</span>, <span style=\"color: #00af00; text-decoration-color: #00af00\">64</span>)        │          <span style=\"color: #00af00; text-decoration-color: #00af00\">18,496</span> │\n",
       "├──────────────────────────────────────┼─────────────────────────────┼─────────────────┤\n",
       "│ time_distributed_7 (<span style=\"color: #0087ff; text-decoration-color: #0087ff\">TimeDistributed</span>) │ (<span style=\"color: #00d7ff; text-decoration-color: #00d7ff\">None</span>, <span style=\"color: #00af00; text-decoration-color: #00af00\">15</span>, <span style=\"color: #00af00; text-decoration-color: #00af00\">2</span>, <span style=\"color: #00af00; text-decoration-color: #00af00\">2</span>, <span style=\"color: #00af00; text-decoration-color: #00af00\">64</span>)        │               <span style=\"color: #00af00; text-decoration-color: #00af00\">0</span> │\n",
       "├──────────────────────────────────────┼─────────────────────────────┼─────────────────┤\n",
       "│ time_distributed_8 (<span style=\"color: #0087ff; text-decoration-color: #0087ff\">TimeDistributed</span>) │ (<span style=\"color: #00d7ff; text-decoration-color: #00d7ff\">None</span>, <span style=\"color: #00af00; text-decoration-color: #00af00\">15</span>, <span style=\"color: #00af00; text-decoration-color: #00af00\">2</span>, <span style=\"color: #00af00; text-decoration-color: #00af00\">2</span>, <span style=\"color: #00af00; text-decoration-color: #00af00\">64</span>)        │               <span style=\"color: #00af00; text-decoration-color: #00af00\">0</span> │\n",
       "├──────────────────────────────────────┼─────────────────────────────┼─────────────────┤\n",
       "│ time_distributed_9 (<span style=\"color: #0087ff; text-decoration-color: #0087ff\">TimeDistributed</span>) │ (<span style=\"color: #00d7ff; text-decoration-color: #00d7ff\">None</span>, <span style=\"color: #00af00; text-decoration-color: #00af00\">15</span>, <span style=\"color: #00af00; text-decoration-color: #00af00\">2</span>, <span style=\"color: #00af00; text-decoration-color: #00af00\">2</span>, <span style=\"color: #00af00; text-decoration-color: #00af00\">64</span>)        │          <span style=\"color: #00af00; text-decoration-color: #00af00\">36,928</span> │\n",
       "├──────────────────────────────────────┼─────────────────────────────┼─────────────────┤\n",
       "│ time_distributed_10                  │ (<span style=\"color: #00d7ff; text-decoration-color: #00d7ff\">None</span>, <span style=\"color: #00af00; text-decoration-color: #00af00\">15</span>, <span style=\"color: #00af00; text-decoration-color: #00af00\">1</span>, <span style=\"color: #00af00; text-decoration-color: #00af00\">1</span>, <span style=\"color: #00af00; text-decoration-color: #00af00\">64</span>)        │               <span style=\"color: #00af00; text-decoration-color: #00af00\">0</span> │\n",
       "│ (<span style=\"color: #0087ff; text-decoration-color: #0087ff\">TimeDistributed</span>)                    │                             │                 │\n",
       "├──────────────────────────────────────┼─────────────────────────────┼─────────────────┤\n",
       "│ time_distributed_11                  │ (<span style=\"color: #00d7ff; text-decoration-color: #00d7ff\">None</span>, <span style=\"color: #00af00; text-decoration-color: #00af00\">15</span>, <span style=\"color: #00af00; text-decoration-color: #00af00\">64</span>)              │               <span style=\"color: #00af00; text-decoration-color: #00af00\">0</span> │\n",
       "│ (<span style=\"color: #0087ff; text-decoration-color: #0087ff\">TimeDistributed</span>)                    │                             │                 │\n",
       "├──────────────────────────────────────┼─────────────────────────────┼─────────────────┤\n",
       "│ lstm (<span style=\"color: #0087ff; text-decoration-color: #0087ff\">LSTM</span>)                          │ (<span style=\"color: #00d7ff; text-decoration-color: #00d7ff\">None</span>, <span style=\"color: #00af00; text-decoration-color: #00af00\">15</span>, <span style=\"color: #00af00; text-decoration-color: #00af00\">32</span>)              │          <span style=\"color: #00af00; text-decoration-color: #00af00\">12,416</span> │\n",
       "├──────────────────────────────────────┼─────────────────────────────┼─────────────────┤\n",
       "│ lstm_1 (<span style=\"color: #0087ff; text-decoration-color: #0087ff\">LSTM</span>)                        │ (<span style=\"color: #00d7ff; text-decoration-color: #00d7ff\">None</span>, <span style=\"color: #00af00; text-decoration-color: #00af00\">32</span>)                  │           <span style=\"color: #00af00; text-decoration-color: #00af00\">8,320</span> │\n",
       "├──────────────────────────────────────┼─────────────────────────────┼─────────────────┤\n",
       "│ dense (<span style=\"color: #0087ff; text-decoration-color: #0087ff\">Dense</span>)                        │ (<span style=\"color: #00d7ff; text-decoration-color: #00d7ff\">None</span>, <span style=\"color: #00af00; text-decoration-color: #00af00\">8</span>)                   │             <span style=\"color: #00af00; text-decoration-color: #00af00\">264</span> │\n",
       "└──────────────────────────────────────┴─────────────────────────────┴─────────────────┘\n",
       "</pre>\n"
      ],
      "text/plain": [
       "┏━━━━━━━━━━━━━━━━━━━━━━━━━━━━━━━━━━━━━━┳━━━━━━━━━━━━━━━━━━━━━━━━━━━━━┳━━━━━━━━━━━━━━━━━┓\n",
       "┃\u001b[1m \u001b[0m\u001b[1mLayer (type)                        \u001b[0m\u001b[1m \u001b[0m┃\u001b[1m \u001b[0m\u001b[1mOutput Shape               \u001b[0m\u001b[1m \u001b[0m┃\u001b[1m \u001b[0m\u001b[1m        Param #\u001b[0m\u001b[1m \u001b[0m┃\n",
       "┡━━━━━━━━━━━━━━━━━━━━━━━━━━━━━━━━━━━━━━╇━━━━━━━━━━━━━━━━━━━━━━━━━━━━━╇━━━━━━━━━━━━━━━━━┩\n",
       "│ time_distributed (\u001b[38;5;33mTimeDistributed\u001b[0m)   │ (\u001b[38;5;45mNone\u001b[0m, \u001b[38;5;34m15\u001b[0m, \u001b[38;5;34m64\u001b[0m, \u001b[38;5;34m64\u001b[0m, \u001b[38;5;34m16\u001b[0m)      │             \u001b[38;5;34m448\u001b[0m │\n",
       "├──────────────────────────────────────┼─────────────────────────────┼─────────────────┤\n",
       "│ time_distributed_1 (\u001b[38;5;33mTimeDistributed\u001b[0m) │ (\u001b[38;5;45mNone\u001b[0m, \u001b[38;5;34m15\u001b[0m, \u001b[38;5;34m16\u001b[0m, \u001b[38;5;34m16\u001b[0m, \u001b[38;5;34m16\u001b[0m)      │               \u001b[38;5;34m0\u001b[0m │\n",
       "├──────────────────────────────────────┼─────────────────────────────┼─────────────────┤\n",
       "│ time_distributed_2 (\u001b[38;5;33mTimeDistributed\u001b[0m) │ (\u001b[38;5;45mNone\u001b[0m, \u001b[38;5;34m15\u001b[0m, \u001b[38;5;34m16\u001b[0m, \u001b[38;5;34m16\u001b[0m, \u001b[38;5;34m16\u001b[0m)      │               \u001b[38;5;34m0\u001b[0m │\n",
       "├──────────────────────────────────────┼─────────────────────────────┼─────────────────┤\n",
       "│ time_distributed_3 (\u001b[38;5;33mTimeDistributed\u001b[0m) │ (\u001b[38;5;45mNone\u001b[0m, \u001b[38;5;34m15\u001b[0m, \u001b[38;5;34m16\u001b[0m, \u001b[38;5;34m16\u001b[0m, \u001b[38;5;34m32\u001b[0m)      │           \u001b[38;5;34m4,640\u001b[0m │\n",
       "├──────────────────────────────────────┼─────────────────────────────┼─────────────────┤\n",
       "│ time_distributed_4 (\u001b[38;5;33mTimeDistributed\u001b[0m) │ (\u001b[38;5;45mNone\u001b[0m, \u001b[38;5;34m15\u001b[0m, \u001b[38;5;34m4\u001b[0m, \u001b[38;5;34m4\u001b[0m, \u001b[38;5;34m32\u001b[0m)        │               \u001b[38;5;34m0\u001b[0m │\n",
       "├──────────────────────────────────────┼─────────────────────────────┼─────────────────┤\n",
       "│ time_distributed_5 (\u001b[38;5;33mTimeDistributed\u001b[0m) │ (\u001b[38;5;45mNone\u001b[0m, \u001b[38;5;34m15\u001b[0m, \u001b[38;5;34m4\u001b[0m, \u001b[38;5;34m4\u001b[0m, \u001b[38;5;34m32\u001b[0m)        │               \u001b[38;5;34m0\u001b[0m │\n",
       "├──────────────────────────────────────┼─────────────────────────────┼─────────────────┤\n",
       "│ time_distributed_6 (\u001b[38;5;33mTimeDistributed\u001b[0m) │ (\u001b[38;5;45mNone\u001b[0m, \u001b[38;5;34m15\u001b[0m, \u001b[38;5;34m4\u001b[0m, \u001b[38;5;34m4\u001b[0m, \u001b[38;5;34m64\u001b[0m)        │          \u001b[38;5;34m18,496\u001b[0m │\n",
       "├──────────────────────────────────────┼─────────────────────────────┼─────────────────┤\n",
       "│ time_distributed_7 (\u001b[38;5;33mTimeDistributed\u001b[0m) │ (\u001b[38;5;45mNone\u001b[0m, \u001b[38;5;34m15\u001b[0m, \u001b[38;5;34m2\u001b[0m, \u001b[38;5;34m2\u001b[0m, \u001b[38;5;34m64\u001b[0m)        │               \u001b[38;5;34m0\u001b[0m │\n",
       "├──────────────────────────────────────┼─────────────────────────────┼─────────────────┤\n",
       "│ time_distributed_8 (\u001b[38;5;33mTimeDistributed\u001b[0m) │ (\u001b[38;5;45mNone\u001b[0m, \u001b[38;5;34m15\u001b[0m, \u001b[38;5;34m2\u001b[0m, \u001b[38;5;34m2\u001b[0m, \u001b[38;5;34m64\u001b[0m)        │               \u001b[38;5;34m0\u001b[0m │\n",
       "├──────────────────────────────────────┼─────────────────────────────┼─────────────────┤\n",
       "│ time_distributed_9 (\u001b[38;5;33mTimeDistributed\u001b[0m) │ (\u001b[38;5;45mNone\u001b[0m, \u001b[38;5;34m15\u001b[0m, \u001b[38;5;34m2\u001b[0m, \u001b[38;5;34m2\u001b[0m, \u001b[38;5;34m64\u001b[0m)        │          \u001b[38;5;34m36,928\u001b[0m │\n",
       "├──────────────────────────────────────┼─────────────────────────────┼─────────────────┤\n",
       "│ time_distributed_10                  │ (\u001b[38;5;45mNone\u001b[0m, \u001b[38;5;34m15\u001b[0m, \u001b[38;5;34m1\u001b[0m, \u001b[38;5;34m1\u001b[0m, \u001b[38;5;34m64\u001b[0m)        │               \u001b[38;5;34m0\u001b[0m │\n",
       "│ (\u001b[38;5;33mTimeDistributed\u001b[0m)                    │                             │                 │\n",
       "├──────────────────────────────────────┼─────────────────────────────┼─────────────────┤\n",
       "│ time_distributed_11                  │ (\u001b[38;5;45mNone\u001b[0m, \u001b[38;5;34m15\u001b[0m, \u001b[38;5;34m64\u001b[0m)              │               \u001b[38;5;34m0\u001b[0m │\n",
       "│ (\u001b[38;5;33mTimeDistributed\u001b[0m)                    │                             │                 │\n",
       "├──────────────────────────────────────┼─────────────────────────────┼─────────────────┤\n",
       "│ lstm (\u001b[38;5;33mLSTM\u001b[0m)                          │ (\u001b[38;5;45mNone\u001b[0m, \u001b[38;5;34m15\u001b[0m, \u001b[38;5;34m32\u001b[0m)              │          \u001b[38;5;34m12,416\u001b[0m │\n",
       "├──────────────────────────────────────┼─────────────────────────────┼─────────────────┤\n",
       "│ lstm_1 (\u001b[38;5;33mLSTM\u001b[0m)                        │ (\u001b[38;5;45mNone\u001b[0m, \u001b[38;5;34m32\u001b[0m)                  │           \u001b[38;5;34m8,320\u001b[0m │\n",
       "├──────────────────────────────────────┼─────────────────────────────┼─────────────────┤\n",
       "│ dense (\u001b[38;5;33mDense\u001b[0m)                        │ (\u001b[38;5;45mNone\u001b[0m, \u001b[38;5;34m8\u001b[0m)                   │             \u001b[38;5;34m264\u001b[0m │\n",
       "└──────────────────────────────────────┴─────────────────────────────┴─────────────────┘\n"
      ]
     },
     "metadata": {},
     "output_type": "display_data"
    },
    {
     "data": {
      "text/html": [
       "<pre style=\"white-space:pre;overflow-x:auto;line-height:normal;font-family:Menlo,'DejaVu Sans Mono',consolas,'Courier New',monospace\"><span style=\"font-weight: bold\"> Total params: </span><span style=\"color: #00af00; text-decoration-color: #00af00\">81,512</span> (318.41 KB)\n",
       "</pre>\n"
      ],
      "text/plain": [
       "\u001b[1m Total params: \u001b[0m\u001b[38;5;34m81,512\u001b[0m (318.41 KB)\n"
      ]
     },
     "metadata": {},
     "output_type": "display_data"
    },
    {
     "data": {
      "text/html": [
       "<pre style=\"white-space:pre;overflow-x:auto;line-height:normal;font-family:Menlo,'DejaVu Sans Mono',consolas,'Courier New',monospace\"><span style=\"font-weight: bold\"> Trainable params: </span><span style=\"color: #00af00; text-decoration-color: #00af00\">81,512</span> (318.41 KB)\n",
       "</pre>\n"
      ],
      "text/plain": [
       "\u001b[1m Trainable params: \u001b[0m\u001b[38;5;34m81,512\u001b[0m (318.41 KB)\n"
      ]
     },
     "metadata": {},
     "output_type": "display_data"
    },
    {
     "data": {
      "text/html": [
       "<pre style=\"white-space:pre;overflow-x:auto;line-height:normal;font-family:Menlo,'DejaVu Sans Mono',consolas,'Courier New',monospace\"><span style=\"font-weight: bold\"> Non-trainable params: </span><span style=\"color: #00af00; text-decoration-color: #00af00\">0</span> (0.00 B)\n",
       "</pre>\n"
      ],
      "text/plain": [
       "\u001b[1m Non-trainable params: \u001b[0m\u001b[38;5;34m0\u001b[0m (0.00 B)\n"
      ]
     },
     "metadata": {},
     "output_type": "display_data"
    }
   ],
   "source": [
    "# Initialize and compile the model\n",
    "LRCN_model_with_attention = create_LRCN_model_with_attention()\n",
    "LRCN_model_with_attention.compile(loss='categorical_crossentropy', optimizer='Adam', metrics=[\"accuracy\"])"
   ]
  },
  {
   "cell_type": "code",
   "execution_count": 6,
   "id": "48e2213d",
   "metadata": {
    "execution": {
     "iopub.execute_input": "2025-05-02T15:18:30.192494Z",
     "iopub.status.busy": "2025-05-02T15:18:30.192270Z",
     "iopub.status.idle": "2025-05-02T16:26:07.109182Z",
     "shell.execute_reply": "2025-05-02T16:26:07.108433Z"
    },
    "papermill": {
     "duration": 4056.921201,
     "end_time": "2025-05-02T16:26:07.110444",
     "exception": false,
     "start_time": "2025-05-02T15:18:30.189243",
     "status": "completed"
    },
    "tags": []
   },
   "outputs": [
    {
     "name": "stdout",
     "output_type": "stream",
     "text": [
      "Epoch 1/70\n"
     ]
    },
    {
     "name": "stderr",
     "output_type": "stream",
     "text": [
      "I0000 00:00:1746199129.052674      62 cuda_dnn.cc:529] Loaded cuDNN version 90300\n"
     ]
    },
    {
     "name": "stdout",
     "output_type": "stream",
     "text": [
      "\u001b[1m619/619\u001b[0m \u001b[32m━━━━━━━━━━━━━━━━━━━━\u001b[0m\u001b[37m\u001b[0m \u001b[1m384s\u001b[0m 582ms/step - accuracy: 0.2200 - loss: 2.0134 - val_accuracy: 0.2217 - val_loss: 1.9997\n",
      "Epoch 2/70\n",
      "\u001b[1m619/619\u001b[0m \u001b[32m━━━━━━━━━━━━━━━━━━━━\u001b[0m\u001b[37m\u001b[0m \u001b[1m48s\u001b[0m 77ms/step - accuracy: 0.2899 - loss: 1.8690 - val_accuracy: 0.4373 - val_loss: 1.5494\n",
      "Epoch 3/70\n",
      "\u001b[1m619/619\u001b[0m \u001b[32m━━━━━━━━━━━━━━━━━━━━\u001b[0m\u001b[37m\u001b[0m \u001b[1m49s\u001b[0m 79ms/step - accuracy: 0.4288 - loss: 1.5526 - val_accuracy: 0.4984 - val_loss: 1.3984\n",
      "Epoch 4/70\n",
      "\u001b[1m619/619\u001b[0m \u001b[32m━━━━━━━━━━━━━━━━━━━━\u001b[0m\u001b[37m\u001b[0m \u001b[1m51s\u001b[0m 82ms/step - accuracy: 0.4972 - loss: 1.4107 - val_accuracy: 0.5999 - val_loss: 1.1849\n",
      "Epoch 5/70\n",
      "\u001b[1m619/619\u001b[0m \u001b[32m━━━━━━━━━━━━━━━━━━━━\u001b[0m\u001b[37m\u001b[0m \u001b[1m47s\u001b[0m 76ms/step - accuracy: 0.5719 - loss: 1.2175 - val_accuracy: 0.6837 - val_loss: 0.9782\n",
      "Epoch 6/70\n",
      "\u001b[1m619/619\u001b[0m \u001b[32m━━━━━━━━━━━━━━━━━━━━\u001b[0m\u001b[37m\u001b[0m \u001b[1m48s\u001b[0m 77ms/step - accuracy: 0.6533 - loss: 1.0227 - val_accuracy: 0.7419 - val_loss: 0.7926\n",
      "Epoch 7/70\n",
      "\u001b[1m619/619\u001b[0m \u001b[32m━━━━━━━━━━━━━━━━━━━━\u001b[0m\u001b[37m\u001b[0m \u001b[1m46s\u001b[0m 75ms/step - accuracy: 0.7194 - loss: 0.8653 - val_accuracy: 0.7994 - val_loss: 0.6569\n",
      "Epoch 8/70\n",
      "\u001b[1m619/619\u001b[0m \u001b[32m━━━━━━━━━━━━━━━━━━━━\u001b[0m\u001b[37m\u001b[0m \u001b[1m48s\u001b[0m 77ms/step - accuracy: 0.7549 - loss: 0.7511 - val_accuracy: 0.8167 - val_loss: 0.5737\n",
      "Epoch 9/70\n",
      "\u001b[1m619/619\u001b[0m \u001b[32m━━━━━━━━━━━━━━━━━━━━\u001b[0m\u001b[37m\u001b[0m \u001b[1m49s\u001b[0m 78ms/step - accuracy: 0.7768 - loss: 0.6847 - val_accuracy: 0.8341 - val_loss: 0.5262\n",
      "Epoch 10/70\n",
      "\u001b[1m619/619\u001b[0m \u001b[32m━━━━━━━━━━━━━━━━━━━━\u001b[0m\u001b[37m\u001b[0m \u001b[1m49s\u001b[0m 79ms/step - accuracy: 0.7962 - loss: 0.6249 - val_accuracy: 0.8528 - val_loss: 0.4633\n",
      "Epoch 11/70\n",
      "\u001b[1m619/619\u001b[0m \u001b[32m━━━━━━━━━━━━━━━━━━━━\u001b[0m\u001b[37m\u001b[0m \u001b[1m49s\u001b[0m 79ms/step - accuracy: 0.8250 - loss: 0.5485 - val_accuracy: 0.8738 - val_loss: 0.4172\n",
      "Epoch 12/70\n",
      "\u001b[1m619/619\u001b[0m \u001b[32m━━━━━━━━━━━━━━━━━━━━\u001b[0m\u001b[37m\u001b[0m \u001b[1m48s\u001b[0m 77ms/step - accuracy: 0.8327 - loss: 0.5262 - val_accuracy: 0.8908 - val_loss: 0.3677\n",
      "Epoch 13/70\n",
      "\u001b[1m619/619\u001b[0m \u001b[32m━━━━━━━━━━━━━━━━━━━━\u001b[0m\u001b[37m\u001b[0m \u001b[1m48s\u001b[0m 77ms/step - accuracy: 0.8383 - loss: 0.4939 - val_accuracy: 0.9017 - val_loss: 0.3379\n",
      "Epoch 14/70\n",
      "\u001b[1m619/619\u001b[0m \u001b[32m━━━━━━━━━━━━━━━━━━━━\u001b[0m\u001b[37m\u001b[0m \u001b[1m48s\u001b[0m 77ms/step - accuracy: 0.8587 - loss: 0.4524 - val_accuracy: 0.9041 - val_loss: 0.3096\n",
      "Epoch 15/70\n",
      "\u001b[1m619/619\u001b[0m \u001b[32m━━━━━━━━━━━━━━━━━━━━\u001b[0m\u001b[37m\u001b[0m \u001b[1m49s\u001b[0m 80ms/step - accuracy: 0.8722 - loss: 0.3985 - val_accuracy: 0.9066 - val_loss: 0.3182\n",
      "Epoch 16/70\n",
      "\u001b[1m619/619\u001b[0m \u001b[32m━━━━━━━━━━━━━━━━━━━━\u001b[0m\u001b[37m\u001b[0m \u001b[1m48s\u001b[0m 77ms/step - accuracy: 0.8787 - loss: 0.3835 - val_accuracy: 0.9126 - val_loss: 0.2929\n",
      "Epoch 17/70\n",
      "\u001b[1m619/619\u001b[0m \u001b[32m━━━━━━━━━━━━━━━━━━━━\u001b[0m\u001b[37m\u001b[0m \u001b[1m48s\u001b[0m 78ms/step - accuracy: 0.8759 - loss: 0.3940 - val_accuracy: 0.9171 - val_loss: 0.2920\n",
      "Epoch 18/70\n",
      "\u001b[1m619/619\u001b[0m \u001b[32m━━━━━━━━━━━━━━━━━━━━\u001b[0m\u001b[37m\u001b[0m \u001b[1m49s\u001b[0m 79ms/step - accuracy: 0.8837 - loss: 0.3722 - val_accuracy: 0.9171 - val_loss: 0.2800\n",
      "Epoch 19/70\n",
      "\u001b[1m619/619\u001b[0m \u001b[32m━━━━━━━━━━━━━━━━━━━━\u001b[0m\u001b[37m\u001b[0m \u001b[1m52s\u001b[0m 84ms/step - accuracy: 0.8851 - loss: 0.3484 - val_accuracy: 0.9248 - val_loss: 0.2506\n",
      "Epoch 20/70\n",
      "\u001b[1m619/619\u001b[0m \u001b[32m━━━━━━━━━━━━━━━━━━━━\u001b[0m\u001b[37m\u001b[0m \u001b[1m51s\u001b[0m 82ms/step - accuracy: 0.8921 - loss: 0.3396 - val_accuracy: 0.9292 - val_loss: 0.2479\n",
      "Epoch 21/70\n",
      "\u001b[1m619/619\u001b[0m \u001b[32m━━━━━━━━━━━━━━━━━━━━\u001b[0m\u001b[37m\u001b[0m \u001b[1m52s\u001b[0m 84ms/step - accuracy: 0.8922 - loss: 0.3296 - val_accuracy: 0.9284 - val_loss: 0.2334\n",
      "Epoch 22/70\n",
      "\u001b[1m619/619\u001b[0m \u001b[32m━━━━━━━━━━━━━━━━━━━━\u001b[0m\u001b[37m\u001b[0m \u001b[1m52s\u001b[0m 84ms/step - accuracy: 0.9007 - loss: 0.3167 - val_accuracy: 0.9353 - val_loss: 0.2243\n",
      "Epoch 23/70\n",
      "\u001b[1m619/619\u001b[0m \u001b[32m━━━━━━━━━━━━━━━━━━━━\u001b[0m\u001b[37m\u001b[0m \u001b[1m49s\u001b[0m 79ms/step - accuracy: 0.9034 - loss: 0.3010 - val_accuracy: 0.9312 - val_loss: 0.2280\n",
      "Epoch 24/70\n",
      "\u001b[1m619/619\u001b[0m \u001b[32m━━━━━━━━━━━━━━━━━━━━\u001b[0m\u001b[37m\u001b[0m \u001b[1m54s\u001b[0m 87ms/step - accuracy: 0.9113 - loss: 0.2947 - val_accuracy: 0.9345 - val_loss: 0.2197\n",
      "Epoch 25/70\n",
      "\u001b[1m619/619\u001b[0m \u001b[32m━━━━━━━━━━━━━━━━━━━━\u001b[0m\u001b[37m\u001b[0m \u001b[1m60s\u001b[0m 97ms/step - accuracy: 0.9181 - loss: 0.2616 - val_accuracy: 0.9308 - val_loss: 0.2303\n",
      "Epoch 26/70\n",
      "\u001b[1m619/619\u001b[0m \u001b[32m━━━━━━━━━━━━━━━━━━━━\u001b[0m\u001b[37m\u001b[0m \u001b[1m60s\u001b[0m 97ms/step - accuracy: 0.9131 - loss: 0.2645 - val_accuracy: 0.9393 - val_loss: 0.2085\n",
      "Epoch 27/70\n",
      "\u001b[1m619/619\u001b[0m \u001b[32m━━━━━━━━━━━━━━━━━━━━\u001b[0m\u001b[37m\u001b[0m \u001b[1m63s\u001b[0m 102ms/step - accuracy: 0.9186 - loss: 0.2537 - val_accuracy: 0.9393 - val_loss: 0.1995\n",
      "Epoch 28/70\n",
      "\u001b[1m619/619\u001b[0m \u001b[32m━━━━━━━━━━━━━━━━━━━━\u001b[0m\u001b[37m\u001b[0m \u001b[1m55s\u001b[0m 89ms/step - accuracy: 0.9146 - loss: 0.2618 - val_accuracy: 0.9401 - val_loss: 0.2102\n",
      "Epoch 29/70\n",
      "\u001b[1m619/619\u001b[0m \u001b[32m━━━━━━━━━━━━━━━━━━━━\u001b[0m\u001b[37m\u001b[0m \u001b[1m49s\u001b[0m 79ms/step - accuracy: 0.9164 - loss: 0.2562 - val_accuracy: 0.9385 - val_loss: 0.2117\n",
      "Epoch 30/70\n",
      "\u001b[1m619/619\u001b[0m \u001b[32m━━━━━━━━━━━━━━━━━━━━\u001b[0m\u001b[37m\u001b[0m \u001b[1m50s\u001b[0m 81ms/step - accuracy: 0.9183 - loss: 0.2490 - val_accuracy: 0.9377 - val_loss: 0.2090\n",
      "Epoch 31/70\n",
      "\u001b[1m619/619\u001b[0m \u001b[32m━━━━━━━━━━━━━━━━━━━━\u001b[0m\u001b[37m\u001b[0m \u001b[1m47s\u001b[0m 77ms/step - accuracy: 0.9251 - loss: 0.2403 - val_accuracy: 0.9430 - val_loss: 0.1953\n",
      "Epoch 32/70\n",
      "\u001b[1m619/619\u001b[0m \u001b[32m━━━━━━━━━━━━━━━━━━━━\u001b[0m\u001b[37m\u001b[0m \u001b[1m47s\u001b[0m 76ms/step - accuracy: 0.9265 - loss: 0.2287 - val_accuracy: 0.9478 - val_loss: 0.1847\n",
      "Epoch 33/70\n",
      "\u001b[1m619/619\u001b[0m \u001b[32m━━━━━━━━━━━━━━━━━━━━\u001b[0m\u001b[37m\u001b[0m \u001b[1m50s\u001b[0m 81ms/step - accuracy: 0.9238 - loss: 0.2334 - val_accuracy: 0.9454 - val_loss: 0.1872\n",
      "Epoch 34/70\n",
      "\u001b[1m619/619\u001b[0m \u001b[32m━━━━━━━━━━━━━━━━━━━━\u001b[0m\u001b[37m\u001b[0m \u001b[1m46s\u001b[0m 73ms/step - accuracy: 0.9293 - loss: 0.2222 - val_accuracy: 0.9434 - val_loss: 0.1839\n",
      "Epoch 35/70\n",
      "\u001b[1m619/619\u001b[0m \u001b[32m━━━━━━━━━━━━━━━━━━━━\u001b[0m\u001b[37m\u001b[0m \u001b[1m46s\u001b[0m 73ms/step - accuracy: 0.9275 - loss: 0.2202 - val_accuracy: 0.9511 - val_loss: 0.1683\n",
      "Epoch 36/70\n",
      "\u001b[1m619/619\u001b[0m \u001b[32m━━━━━━━━━━━━━━━━━━━━\u001b[0m\u001b[37m\u001b[0m \u001b[1m48s\u001b[0m 77ms/step - accuracy: 0.9322 - loss: 0.2133 - val_accuracy: 0.9458 - val_loss: 0.1767\n",
      "Epoch 37/70\n",
      "\u001b[1m619/619\u001b[0m \u001b[32m━━━━━━━━━━━━━━━━━━━━\u001b[0m\u001b[37m\u001b[0m \u001b[1m48s\u001b[0m 78ms/step - accuracy: 0.9338 - loss: 0.2072 - val_accuracy: 0.9515 - val_loss: 0.1747\n",
      "Epoch 38/70\n",
      "\u001b[1m619/619\u001b[0m \u001b[32m━━━━━━━━━━━━━━━━━━━━\u001b[0m\u001b[37m\u001b[0m \u001b[1m54s\u001b[0m 87ms/step - accuracy: 0.9367 - loss: 0.1999 - val_accuracy: 0.9450 - val_loss: 0.1813\n",
      "Epoch 39/70\n",
      "\u001b[1m619/619\u001b[0m \u001b[32m━━━━━━━━━━━━━━━━━━━━\u001b[0m\u001b[37m\u001b[0m \u001b[1m49s\u001b[0m 79ms/step - accuracy: 0.9310 - loss: 0.2200 - val_accuracy: 0.9506 - val_loss: 0.1801\n",
      "Epoch 40/70\n",
      "\u001b[1m619/619\u001b[0m \u001b[32m━━━━━━━━━━━━━━━━━━━━\u001b[0m\u001b[37m\u001b[0m \u001b[1m49s\u001b[0m 79ms/step - accuracy: 0.9399 - loss: 0.1907 - val_accuracy: 0.9519 - val_loss: 0.1686\n",
      "Epoch 41/70\n",
      "\u001b[1m619/619\u001b[0m \u001b[32m━━━━━━━━━━━━━━━━━━━━\u001b[0m\u001b[37m\u001b[0m \u001b[1m50s\u001b[0m 81ms/step - accuracy: 0.9374 - loss: 0.1991 - val_accuracy: 0.9535 - val_loss: 0.1631\n",
      "Epoch 42/70\n",
      "\u001b[1m619/619\u001b[0m \u001b[32m━━━━━━━━━━━━━━━━━━━━\u001b[0m\u001b[37m\u001b[0m \u001b[1m48s\u001b[0m 77ms/step - accuracy: 0.9418 - loss: 0.1857 - val_accuracy: 0.9523 - val_loss: 0.1640\n",
      "Epoch 43/70\n",
      "\u001b[1m619/619\u001b[0m \u001b[32m━━━━━━━━━━━━━━━━━━━━\u001b[0m\u001b[37m\u001b[0m \u001b[1m48s\u001b[0m 77ms/step - accuracy: 0.9346 - loss: 0.2037 - val_accuracy: 0.9539 - val_loss: 0.1596\n",
      "Epoch 44/70\n",
      "\u001b[1m619/619\u001b[0m \u001b[32m━━━━━━━━━━━━━━━━━━━━\u001b[0m\u001b[37m\u001b[0m \u001b[1m51s\u001b[0m 82ms/step - accuracy: 0.9419 - loss: 0.1815 - val_accuracy: 0.9490 - val_loss: 0.1728\n",
      "Epoch 45/70\n",
      "\u001b[1m619/619\u001b[0m \u001b[32m━━━━━━━━━━━━━━━━━━━━\u001b[0m\u001b[37m\u001b[0m \u001b[1m58s\u001b[0m 94ms/step - accuracy: 0.9404 - loss: 0.1784 - val_accuracy: 0.9482 - val_loss: 0.1851\n",
      "Epoch 46/70\n",
      "\u001b[1m619/619\u001b[0m \u001b[32m━━━━━━━━━━━━━━━━━━━━\u001b[0m\u001b[37m\u001b[0m \u001b[1m60s\u001b[0m 97ms/step - accuracy: 0.9364 - loss: 0.1917 - val_accuracy: 0.9523 - val_loss: 0.1636\n",
      "Epoch 47/70\n",
      "\u001b[1m619/619\u001b[0m \u001b[32m━━━━━━━━━━━━━━━━━━━━\u001b[0m\u001b[37m\u001b[0m \u001b[1m68s\u001b[0m 110ms/step - accuracy: 0.9333 - loss: 0.1998 - val_accuracy: 0.9527 - val_loss: 0.1679\n",
      "Epoch 48/70\n",
      "\u001b[1m619/619\u001b[0m \u001b[32m━━━━━━━━━━━━━━━━━━━━\u001b[0m\u001b[37m\u001b[0m \u001b[1m71s\u001b[0m 114ms/step - accuracy: 0.9393 - loss: 0.1884 - val_accuracy: 0.9515 - val_loss: 0.1709\n",
      "Epoch 49/70\n",
      "\u001b[1m619/619\u001b[0m \u001b[32m━━━━━━━━━━━━━━━━━━━━\u001b[0m\u001b[37m\u001b[0m \u001b[1m58s\u001b[0m 93ms/step - accuracy: 0.9406 - loss: 0.1803 - val_accuracy: 0.9543 - val_loss: 0.1552\n",
      "Epoch 50/70\n",
      "\u001b[1m619/619\u001b[0m \u001b[32m━━━━━━━━━━━━━━━━━━━━\u001b[0m\u001b[37m\u001b[0m \u001b[1m57s\u001b[0m 93ms/step - accuracy: 0.9422 - loss: 0.1839 - val_accuracy: 0.9551 - val_loss: 0.1646\n",
      "Epoch 51/70\n",
      "\u001b[1m619/619\u001b[0m \u001b[32m━━━━━━━━━━━━━━━━━━━━\u001b[0m\u001b[37m\u001b[0m \u001b[1m59s\u001b[0m 96ms/step - accuracy: 0.9409 - loss: 0.1869 - val_accuracy: 0.9539 - val_loss: 0.1635\n",
      "Epoch 52/70\n",
      "\u001b[1m619/619\u001b[0m \u001b[32m━━━━━━━━━━━━━━━━━━━━\u001b[0m\u001b[37m\u001b[0m \u001b[1m55s\u001b[0m 89ms/step - accuracy: 0.9516 - loss: 0.1501 - val_accuracy: 0.9595 - val_loss: 0.1524\n",
      "Epoch 53/70\n",
      "\u001b[1m619/619\u001b[0m \u001b[32m━━━━━━━━━━━━━━━━━━━━\u001b[0m\u001b[37m\u001b[0m \u001b[1m55s\u001b[0m 89ms/step - accuracy: 0.9461 - loss: 0.1692 - val_accuracy: 0.9535 - val_loss: 0.1590\n",
      "Epoch 54/70\n",
      "\u001b[1m619/619\u001b[0m \u001b[32m━━━━━━━━━━━━━━━━━━━━\u001b[0m\u001b[37m\u001b[0m \u001b[1m54s\u001b[0m 87ms/step - accuracy: 0.9439 - loss: 0.1615 - val_accuracy: 0.9543 - val_loss: 0.1582\n",
      "Epoch 55/70\n",
      "\u001b[1m619/619\u001b[0m \u001b[32m━━━━━━━━━━━━━━━━━━━━\u001b[0m\u001b[37m\u001b[0m \u001b[1m54s\u001b[0m 87ms/step - accuracy: 0.9487 - loss: 0.1631 - val_accuracy: 0.9547 - val_loss: 0.1633\n",
      "Epoch 56/70\n",
      "\u001b[1m619/619\u001b[0m \u001b[32m━━━━━━━━━━━━━━━━━━━━\u001b[0m\u001b[37m\u001b[0m \u001b[1m56s\u001b[0m 90ms/step - accuracy: 0.9488 - loss: 0.1526 - val_accuracy: 0.9547 - val_loss: 0.1571\n",
      "Epoch 57/70\n",
      "\u001b[1m619/619\u001b[0m \u001b[32m━━━━━━━━━━━━━━━━━━━━\u001b[0m\u001b[37m\u001b[0m \u001b[1m58s\u001b[0m 94ms/step - accuracy: 0.9460 - loss: 0.1670 - val_accuracy: 0.9555 - val_loss: 0.1640\n",
      "Epoch 58/70\n",
      "\u001b[1m619/619\u001b[0m \u001b[32m━━━━━━━━━━━━━━━━━━━━\u001b[0m\u001b[37m\u001b[0m \u001b[1m55s\u001b[0m 89ms/step - accuracy: 0.9553 - loss: 0.1503 - val_accuracy: 0.9571 - val_loss: 0.1541\n",
      "Epoch 59/70\n",
      "\u001b[1m619/619\u001b[0m \u001b[32m━━━━━━━━━━━━━━━━━━━━\u001b[0m\u001b[37m\u001b[0m \u001b[1m55s\u001b[0m 89ms/step - accuracy: 0.9430 - loss: 0.1707 - val_accuracy: 0.9583 - val_loss: 0.1423\n",
      "Epoch 60/70\n",
      "\u001b[1m619/619\u001b[0m \u001b[32m━━━━━━━━━━━━━━━━━━━━\u001b[0m\u001b[37m\u001b[0m \u001b[1m59s\u001b[0m 95ms/step - accuracy: 0.9485 - loss: 0.1672 - val_accuracy: 0.9600 - val_loss: 0.1498\n",
      "Epoch 61/70\n",
      "\u001b[1m619/619\u001b[0m \u001b[32m━━━━━━━━━━━━━━━━━━━━\u001b[0m\u001b[37m\u001b[0m \u001b[1m68s\u001b[0m 109ms/step - accuracy: 0.9555 - loss: 0.1437 - val_accuracy: 0.9591 - val_loss: 0.1503\n",
      "Epoch 62/70\n",
      "\u001b[1m619/619\u001b[0m \u001b[32m━━━━━━━━━━━━━━━━━━━━\u001b[0m\u001b[37m\u001b[0m \u001b[1m62s\u001b[0m 100ms/step - accuracy: 0.9564 - loss: 0.1433 - val_accuracy: 0.9575 - val_loss: 0.1510\n",
      "Epoch 63/70\n",
      "\u001b[1m619/619\u001b[0m \u001b[32m━━━━━━━━━━━━━━━━━━━━\u001b[0m\u001b[37m\u001b[0m \u001b[1m60s\u001b[0m 97ms/step - accuracy: 0.9536 - loss: 0.1560 - val_accuracy: 0.9612 - val_loss: 0.1410\n",
      "Epoch 64/70\n",
      "\u001b[1m619/619\u001b[0m \u001b[32m━━━━━━━━━━━━━━━━━━━━\u001b[0m\u001b[37m\u001b[0m \u001b[1m59s\u001b[0m 95ms/step - accuracy: 0.9515 - loss: 0.1505 - val_accuracy: 0.9616 - val_loss: 0.1386\n",
      "Epoch 65/70\n",
      "\u001b[1m619/619\u001b[0m \u001b[32m━━━━━━━━━━━━━━━━━━━━\u001b[0m\u001b[37m\u001b[0m \u001b[1m55s\u001b[0m 88ms/step - accuracy: 0.9504 - loss: 0.1511 - val_accuracy: 0.9571 - val_loss: 0.1487\n",
      "Epoch 66/70\n",
      "\u001b[1m619/619\u001b[0m \u001b[32m━━━━━━━━━━━━━━━━━━━━\u001b[0m\u001b[37m\u001b[0m \u001b[1m60s\u001b[0m 96ms/step - accuracy: 0.9509 - loss: 0.1548 - val_accuracy: 0.9616 - val_loss: 0.1480\n",
      "Epoch 67/70\n",
      "\u001b[1m619/619\u001b[0m \u001b[32m━━━━━━━━━━━━━━━━━━━━\u001b[0m\u001b[37m\u001b[0m \u001b[1m58s\u001b[0m 93ms/step - accuracy: 0.9522 - loss: 0.1519 - val_accuracy: 0.9595 - val_loss: 0.1418\n",
      "Epoch 68/70\n",
      "\u001b[1m619/619\u001b[0m \u001b[32m━━━━━━━━━━━━━━━━━━━━\u001b[0m\u001b[37m\u001b[0m \u001b[1m52s\u001b[0m 85ms/step - accuracy: 0.9586 - loss: 0.1326 - val_accuracy: 0.9486 - val_loss: 0.1630\n",
      "Epoch 69/70\n",
      "\u001b[1m619/619\u001b[0m \u001b[32m━━━━━━━━━━━━━━━━━━━━\u001b[0m\u001b[37m\u001b[0m \u001b[1m56s\u001b[0m 90ms/step - accuracy: 0.9561 - loss: 0.1412 - val_accuracy: 0.9543 - val_loss: 0.1563\n",
      "Epoch 70/70\n",
      "\u001b[1m619/619\u001b[0m \u001b[32m━━━━━━━━━━━━━━━━━━━━\u001b[0m\u001b[37m\u001b[0m \u001b[1m54s\u001b[0m 87ms/step - accuracy: 0.9536 - loss: 0.1398 - val_accuracy: 0.9583 - val_loss: 0.1390\n",
      "Final model saved as LSTM_with_attention_final.h5\n",
      "\u001b[1m155/155\u001b[0m \u001b[32m━━━━━━━━━━━━━━━━━━━━\u001b[0m\u001b[37m\u001b[0m \u001b[1m10s\u001b[0m 62ms/step - accuracy: 0.9581 - loss: 0.1443\n"
     ]
    }
   ],
   "source": [
    "# Train the model with the checkpoint callback\n",
    "LRCN_model_training_history = LRCN_model_with_attention.fit(\n",
    "    train_dataset, \n",
    "    epochs=70,  # Training for 80 epochs\n",
    "    validation_data=val_dataset  # Adding the checkpoint callback\n",
    ")\n",
    "\n",
    "# Save the final model (in case you want to save the last model too)\n",
    "LRCN_model_with_attention.save(\"LSTM_with_attention_final1.h5\")\n",
    "print(\"Final model saved as LSTM_with_attention_final.h5\")\n",
    "\n",
    "# Evaluate the best model\n",
    "model_evaluation_history = LRCN_model_with_attention.evaluate(val_dataset)\n"
   ]
  },
  {
   "cell_type": "code",
   "execution_count": 7,
   "id": "10e52c22",
   "metadata": {
    "execution": {
     "iopub.execute_input": "2025-05-02T16:26:10.963963Z",
     "iopub.status.busy": "2025-05-02T16:26:10.963080Z",
     "iopub.status.idle": "2025-05-02T16:26:11.992950Z",
     "shell.execute_reply": "2025-05-02T16:26:11.992339Z"
    },
    "papermill": {
     "duration": 3.005842,
     "end_time": "2025-05-02T16:26:11.994104",
     "exception": false,
     "start_time": "2025-05-02T16:26:08.988262",
     "status": "completed"
    },
    "tags": []
   },
   "outputs": [
    {
     "data": {
      "image/png": "[encoded data removed]",
      "text/plain": [
       "<Figure size 640x480 with 1 Axes>"
      ]
     },
     "metadata": {},
     "output_type": "display_data"
    },
    {
     "data": {
      "image/png": "[encoded data removed]",
      "text/plain": [
       "<Figure size 640x480 with 1 Axes>"
      ]
     },
     "metadata": {},
     "output_type": "display_data"
    }
   ],
   "source": [
    "\n",
    "# Plot training metrics\n",
    "def plot_metric(model_training_history, metric_name_1, metric_name_2, plot_name):\n",
    "    metric_value_1 = model_training_history.history[metric_name_1]\n",
    "    metric_value_2 = model_training_history.history[metric_name_2]\n",
    "    epochs = range(len(metric_value_1))\n",
    "\n",
    "    plt.plot(epochs, metric_value_1, 'blue', label=metric_name_1)\n",
    "    plt.plot(epochs, metric_value_2, 'red', label=metric_name_2)\n",
    "    plt.title(str(plot_name))\n",
    "    plt.legend()\n",
    "\n",
    "# Plot accuracy and validation accuracy metrics\n",
    "plot_metric(LRCN_model_training_history, 'accuracy', 'val_accuracy', 'Total Accuracy vs Total Validation Accuracy')\n",
    "plt.ylabel('Accuracy')\n",
    "plt.xlabel('Epochs')\n",
    "plt.savefig('ACCURACY1.PNG')\n",
    "plt.show()\n",
    "\n",
    "# Plot loss and validation loss metrics\n",
    "plot_metric(LRCN_model_training_history, 'loss', 'val_loss', 'Total Loss vs Total Validation Loss')\n",
    "plt.ylabel('Loss')\n",
    "plt.xlabel('Epochs')\n",
    "plt.savefig('Loss1.png')\n",
    "plt.show()\n"
   ]
  }
 ],
 "metadata": {
  "kaggle": {
   "accelerator": "nvidiaTeslaT4",
   "dataSources": [
    {
     "datasetId": 1710176,
     "sourceId": 2799594,
     "sourceType": "datasetVersion"
    }
   ],
   "dockerImageVersionId": 31011,
   "isGpuEnabled": true,
   "isInternetEnabled": true,
   "language": "python",
   "sourceType": "notebook"
  },
  "kernelspec": {
   "display_name": "Python 3",
   "language": "python",
   "name": "python3"
  },
  "language_info": {
   "codemirror_mode": {
    "name": "ipython",
    "version": 3
   },
   "file_extension": ".py",
   "mimetype": "text/x-python",
   "name": "python",
   "nbconvert_exporter": "python",
   "pygments_lexer": "ipython3",
   "version": "3.11.11"
  },
  "papermill": {
   "default_parameters": {},
   "duration": 4096.117625,
   "end_time": "2025-05-02T16:26:17.545667",
   "environment_variables": {},
   "exception": null,
   "input_path": "__notebook__.ipynb",
   "output_path": "__notebook__.ipynb",
   "parameters": {},
   "start_time": "2025-05-02T15:18:01.428042",
   "version": "2.6.0"
  }
 },
 "nbformat": 4,
 "nbformat_minor": 5
}
